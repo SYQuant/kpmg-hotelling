{
 "cells": [
  {
   "cell_type": "code",
   "execution_count": 2,
   "metadata": {
    "collapsed": true
   },
   "outputs": [],
   "source": [
    "import datetime\n",
    "import time #used for sleep codes to enable delay between execution of code\n",
    "# import os\n",
    "\n",
    "from selenium import webdriver\n",
    "from selenium.webdriver.common.keys import Keys\n",
    "from selenium.webdriver.chrome.options import Options\n",
    "from selenium.webdriver.common.action_chains import ActionChains\n",
    "\n",
    "# CHROME_PATH = '/usr/bin/google-chrome'\n",
    "# CHROMEDRIVER_PATH = 'C:\\\\Users\\\\stephenyao\\\\Documents\\\\chromedriver.exe'\n",
    "\n",
    "# CHROME_PATH = '\"C:\\Program Files (x86)\\Google\\Chrome\\Application\\chrome.exe\"'\n",
    "# CHROMEDRIVER_PATH = 'C:\\\\Users\\\\stephenyao\\\\Documents\\\\chromedriver.exe'\n",
    "\n",
    "# chrome_options = Options()  \n",
    "# chrome_options.add_argument(\"--headless\")  \n",
    "# chrome_options.add_argument(\"--window-size=%s\" % \"1920,1080\")\n",
    "# chrome_options.binary_location = CHROME_PATH\n",
    "# chrome_exec_shim = os.environ.get(\"CHROMEDRIVER_PATH\", \"CHROMEDRIVER_PATH\")"
   ]
  },
  {
   "cell_type": "code",
   "execution_count": 3,
   "metadata": {},
   "outputs": [],
   "source": [
    "chrome_options = webdriver.ChromeOptions()\n",
    "chrome_options.add_experimental_option(\"useAutomationExtension\", False)"
   ]
  },
  {
   "cell_type": "code",
   "execution_count": 17,
   "metadata": {
    "collapsed": true
   },
   "outputs": [],
   "source": [
    "# inputs\n",
    "StartTime = \"8:00 AM\"\n",
    "EndTime = \"5:00 PM\"\n",
    "Floor = \"40\"\n",
    "# Workstation_1 = \"40036B\"\n",
    "# Workstation_2 = \"40153B\""
   ]
  },
  {
   "cell_type": "code",
   "execution_count": 18,
   "metadata": {
    "collapsed": true
   },
   "outputs": [],
   "source": [
    "def date_by_adding_business_days(from_date, add_days):\n",
    "    business_days_to_add = add_days\n",
    "    current_date = from_date\n",
    "    while business_days_to_add > 0:\n",
    "        current_date += datetime.timedelta(days=1)\n",
    "        weekday = current_date.weekday()\n",
    "        if weekday >= 5: # sunday = 6\n",
    "            continue\n",
    "        business_days_to_add -= 1\n",
    "    return current_date\n",
    "\n",
    "future_date = str(date_by_adding_business_days(datetime.date.today(),3))\n",
    "future_date_adjusted = datetime.datetime.strptime(future_date,'%Y-%m-%d').strftime(\"%m/%d/%Y %a\")"
   ]
  },
  {
   "cell_type": "code",
   "execution_count": 3,
   "metadata": {},
   "outputs": [
    {
     "ename": "NameError",
     "evalue": "name 'webdriver' is not defined",
     "output_type": "error",
     "traceback": [
      "\u001b[1;31m---------------------------------------------------------------------------\u001b[0m",
      "\u001b[1;31mNameError\u001b[0m                                 Traceback (most recent call last)",
      "\u001b[1;32m<ipython-input-3-a217717fb11a>\u001b[0m in \u001b[0;36m<module>\u001b[1;34m()\u001b[0m\n\u001b[0;32m      1\u001b[0m \u001b[1;31m# Connect to Python using selenium API and access KPMG website\u001b[0m\u001b[1;33m\u001b[0m\u001b[1;33m\u001b[0m\u001b[0m\n\u001b[1;32m----> 2\u001b[1;33m \u001b[0mbrowser\u001b[0m \u001b[1;33m=\u001b[0m \u001b[0mwebdriver\u001b[0m\u001b[1;33m.\u001b[0m\u001b[0mChrome\u001b[0m\u001b[1;33m(\u001b[0m\u001b[1;34m\"C:\\\\Users\\\\stephenyao\\\\Documents\\\\chromedriver.exe\"\u001b[0m\u001b[1;33m)\u001b[0m\u001b[1;33m\u001b[0m\u001b[0m\n\u001b[0m\u001b[0;32m      3\u001b[0m \u001b[0mchrome_options\u001b[0m \u001b[1;33m=\u001b[0m \u001b[0mwebdriver\u001b[0m\u001b[1;33m.\u001b[0m\u001b[0mChromeOptions\u001b[0m\u001b[1;33m(\u001b[0m\u001b[1;33m)\u001b[0m\u001b[1;33m\u001b[0m\u001b[0m\n\u001b[0;32m      4\u001b[0m \u001b[0mchrome_options\u001b[0m\u001b[1;33m.\u001b[0m\u001b[0madd_experimental_option\u001b[0m\u001b[1;33m(\u001b[0m\u001b[1;34m\"useAutomationExtension\"\u001b[0m\u001b[1;33m,\u001b[0m \u001b[1;32mFalse\u001b[0m\u001b[1;33m)\u001b[0m\u001b[1;33m\u001b[0m\u001b[0m\n\u001b[0;32m      5\u001b[0m \u001b[1;31m# browser = webdriver.Ie(\"C:\\\\Users\\\\stephenyao\\\\Python Projects\\\\IEDriverServer.exe\")\u001b[0m\u001b[1;33m\u001b[0m\u001b[1;33m\u001b[0m\u001b[0m\n",
      "\u001b[1;31mNameError\u001b[0m: name 'webdriver' is not defined"
     ]
    }
   ],
   "source": [
    "# Connect to Python using selenium API and access KPMG website\n",
    "browser = webdriver.Chrome(\"C:\\\\Users\\\\stephenyao\\\\Documents\\\\chromedriver.exe\")\n",
    "chrome_options = webdriver.ChromeOptions()\n",
    "chrome_options.add_experimental_option(\"useAutomationExtension\", False)\n",
    "# browser = webdriver.Ie(\"C:\\\\Users\\\\stephenyao\\\\Python Projects\\\\IEDriverServer.exe\")\n",
    "browser.get(\"https://ems.ca.kworld.kpmg.com/VirtualEms/RoomRequest.aspx?data=ity3Dem%2byxxGFZTQvNr97wLAGVQekE8O\")\n",
    "\n",
    "# To maximize screen, use below code\n",
    "# browser.maximize_window()\n",
    "# actions = ActionChains(browser)"
   ]
  },
  {
   "cell_type": "code",
   "execution_count": 20,
   "metadata": {
    "collapsed": true,
    "scrolled": true
   },
   "outputs": [],
   "source": [
    "browser.find_element_by_name(\"ctl00$pc$BookDate$box\").clear()\n",
    "browser.find_element_by_name(\"ctl00$pc$BookDate$box\").send_keys(future_date_adjusted)#Date"
   ]
  },
  {
   "cell_type": "code",
   "execution_count": 21,
   "metadata": {
    "collapsed": true
   },
   "outputs": [],
   "source": [
    "browser.find_element_by_name(\"ctl00$pc$StartTime$box\").clear()\n",
    "browser.find_element_by_name(\"ctl00$pc$StartTime$box\").send_keys(StartTime)#Start time\n",
    "browser.find_element_by_name(\"ctl00$pc$EndTime$box\").clear()\n",
    "browser.find_element_by_name(\"ctl00$pc$EndTime$box\").send_keys(EndTime)#End time"
   ]
  },
  {
   "cell_type": "code",
   "execution_count": 22,
   "metadata": {
    "collapsed": true
   },
   "outputs": [],
   "source": [
    "browser.find_element_by_name(\"ctl00$pc$Floors$ddl\").send_keys(Floor) #Floor Availability"
   ]
  },
  {
   "cell_type": "code",
   "execution_count": 23,
   "metadata": {
    "collapsed": true
   },
   "outputs": [],
   "source": [
    "# Access search feature\n",
    "browser.find_element_by_name(\"ctl00$pc$GetData\").click()"
   ]
  },
  {
   "cell_type": "code",
   "execution_count": 24,
   "metadata": {
    "collapsed": true
   },
   "outputs": [],
   "source": [
    "time.sleep(1)"
   ]
  },
  {
   "cell_type": "code",
   "execution_count": 25,
   "metadata": {},
   "outputs": [
    {
     "name": "stdout",
     "output_type": "stream",
     "text": [
      "Your main seat is not booked. Now trying for second seat.\n"
     ]
    }
   ],
   "source": [
    "# Books first seat\n",
    "try:\n",
    "    element1 = browser.find_element_by_xpath(\n",
    "        \"//img[@alt='Click to add Toronto - BAC - 40074A Workstation to your selected locations']\"\n",
    "    )\n",
    "    browser.execute_script(\"arguments[0].scrollIntoView()\",element1)\n",
    "    element1.click()\n",
    "    print(\"Your main seat is booked.\")\n",
    "except:\n",
    "    print(\"Your main seat is not booked. Now trying for second seat.\")\n",
    "    pass"
   ]
  },
  {
   "cell_type": "code",
   "execution_count": 26,
   "metadata": {
    "collapsed": true
   },
   "outputs": [],
   "source": [
    "time.sleep(1)"
   ]
  },
  {
   "cell_type": "code",
   "execution_count": 27,
   "metadata": {},
   "outputs": [
    {
     "name": "stdout",
     "output_type": "stream",
     "text": [
      "Your backup seat is booked.\n"
     ]
    }
   ],
   "source": [
    "# Books second seat\n",
    "try:\n",
    "    element2 = browser.find_element_by_xpath(\n",
    "        \"//img[@alt='Click to add Toronto - BAC - 40153B Workstation to your selected locations']\"\n",
    "    )\n",
    "    browser.execute_script(\"arguments[0].scrollIntoView()\",element2)\n",
    "    element2.click()\n",
    "    print(\"Your backup seat is booked.\")\n",
    "except:\n",
    "    print(\"No available seats.\")\n",
    "    pass"
   ]
  },
  {
   "cell_type": "code",
   "execution_count": 28,
   "metadata": {
    "collapsed": true
   },
   "outputs": [],
   "source": [
    "time.sleep(1)"
   ]
  },
  {
   "cell_type": "code",
   "execution_count": 29,
   "metadata": {
    "collapsed": true
   },
   "outputs": [],
   "source": [
    "# Submit reservations to be made\n",
    "try:\n",
    "    browser.find_element_by_name(\"ctl00$pc$submitReservation\").click()\n",
    "except:\n",
    "    pass"
   ]
  },
  {
   "cell_type": "code",
   "execution_count": 30,
   "metadata": {
    "collapsed": true
   },
   "outputs": [],
   "source": [
    "time.sleep(1)\n",
    "browser.quit()"
   ]
  },
  {
   "cell_type": "code",
   "execution_count": null,
   "metadata": {
    "collapsed": true
   },
   "outputs": [],
   "source": []
  }
 ],
 "metadata": {
  "kernelspec": {
   "display_name": "Python 3",
   "language": "python",
   "name": "python3"
  },
  "language_info": {
   "codemirror_mode": {
    "name": "ipython",
    "version": 3
   },
   "file_extension": ".py",
   "mimetype": "text/x-python",
   "name": "python",
   "nbconvert_exporter": "python",
   "pygments_lexer": "ipython3",
   "version": "3.6.1"
  }
 },
 "nbformat": 4,
 "nbformat_minor": 2
}
